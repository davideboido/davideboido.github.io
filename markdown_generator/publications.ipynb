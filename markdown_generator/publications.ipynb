{
 "cells": [
  {
   "cell_type": "markdown",
   "metadata": {
    "deletable": true,
    "editable": true
   },
   "source": [
    "# Publications markdown generator for academicpages\n",
    "\n",
    "Takes a TSV of publications with metadata and converts them for use with [academicpages.github.io](academicpages.github.io). This is an interactive Jupyter notebook ([see more info here](http://jupyter-notebook-beginner-guide.readthedocs.io/en/latest/what_is_jupyter.html)). The core python code is also in `publications.py`. Run either from the `markdown_generator` folder after replacing `publications.tsv` with one containing your data.\n",
    "\n",
    "TODO: Make this work with BibTex and other databases of citations, rather than Stuart's non-standard TSV format and citation style.\n"
   ]
  },
  {
   "cell_type": "markdown",
   "metadata": {},
   "source": [
    "## Data format\n",
    "\n",
    "The TSV needs to have the following columns: pub_date, title, venue, excerpt, citation, site_url, and paper_url, with a header at the top. \n",
    "\n",
    "- `excerpt` and `paper_url` can be blank, but the others must have values. \n",
    "- `pub_date` must be formatted as YYYY-MM-DD.\n",
    "- `url_slug` will be the descriptive part of the .md file and the permalink URL for the page about the paper. The .md file will be `YYYY-MM-DD-[url_slug].md` and the permalink will be `https://[yourdomain]/publications/YYYY-MM-DD-[url_slug]`\n",
    "\n",
    "This is how the raw file looks (it doesn't look pretty, use a spreadsheet or other program to edit and create)."
   ]
  },
  {
   "cell_type": "code",
   "execution_count": 51,
   "metadata": {
    "collapsed": false
   },
   "outputs": [
    {
     "name": "stdout",
     "output_type": "stream",
     "text": [
      "pub_date\ttitle\tvenue\texcerpt\tcitation\turl_slug\tpaper_url\n",
      "01/12/2014\tSimultaneous enhancement of excitation and postburst inhibition at the end of focal seizures: Focal Seizures\tAnnals of Neurology\tIt is not only the inhibition necessary to stop epileptic seizures\t\"<b>Boido D</b>, Gnatkovsky V, Uva L, Stefano Francione S, de Curtis M. (2014). \"\"Simultaneous enhancement of excitation and postburst inhibition at the end of focal seizures: Focal Seizures\"\". <b>Annals of Neurology</b> 76 (6)\"\tBoido-Seizure-Termination\thttps://onlinelibrary.wiley.com/doi/abs/10.1002/ana.24193\n",
      "03/07/2019\tMesoscopic and microscopic imaging of sensory responses in the same animal\tNature Communications\tTwo-Photon Microscopy, functional US and BOLD fMRI in the same mouse\t\"<b>Boido D*</b>, Rungta R*, Osmanski B*, Roche M, Tsurugizawa T, Le Bihan D, Ciobanu L*, Charpak S*. (2019). \"\"Mesoscopic and microscopic imaging of sensory responses in the same animal\"\" <b>Nature Communications</b>. 10(1).\"\tBoido-Mesoscopic\thttps://www.nature.com/articles/s41467-019-09082-4\n",
      "11/06/2020\tTransfer functions linking neural calcium to single voxel functional ultrasound signal\tNature Communications\tThe Hemodynamic Response Function, so the neurovascular coupling, is fast and roboust across stimulus modulation and imaging techniques\t\"Aydin A-K, Haselden WD, Goulam Houssen Y, Pouzat C, Rungta RL, Demené C, Tanter M, Drew PJ, Charpak S*, <b>Boido D*</b>. (2020). \"\"Transfer functions linking neural calcium to single voxel functional ultrasound signal\"\" <b>Nature Communications</b> 11(1).\"\tAydin-TF\thttps://www.nature.com/articles/s41467-020-16774-9\n",
      "14/06/2021\tIliski, a software for robust calculation of transfer functions\t\"PLOS Computational Biology \"\tIntroduction to a SW to compute Transfer Functions\t\"Aydin AK, Haselden WD, Dang J, Drew PJ, Charpak S*, <b>Boido D*</b>. (2021). \"\"Iliski, a software for robust calculation of transfer functions\"\" <b>PLOS Computational Biology</b>. 17(6).\"\tAydyn-Iliski\thttps://www.ncbi.nlm.nih.gov/pmc/articles/PMC8224889/\n",
      "23/09/2022\tCranial window for longitudinal and multimodal imaging of the whole mouse cortex\tNeurophotonics\tThis paper described a multimodal mouse preparation suitable for Two-Photon Microscopy, functional US and BOLD fMRI with a ste-by-step protocol\t\"Tournissac M*, <b>Boido D*</b>, Omnes M, Goulam-Houssen Y, Ciobanu L and Charpak S (2022). \"\"Cranial window for longitudinal and multimodal imaging of the whole mouse cortex\"\" <b>Neurophotonics</b>. 9 (3).\"\tTournissac-Craniotomy\thttps://pubmed.ncbi.nlm.nih.gov/36159711/"
     ]
    }
   ],
   "source": [
    "!cat publications.tsv"
   ]
  },
  {
   "cell_type": "markdown",
   "metadata": {},
   "source": [
    "## Import pandas\n",
    "\n",
    "We are using the very handy pandas library for dataframes."
   ]
  },
  {
   "cell_type": "code",
   "execution_count": 52,
   "metadata": {
    "collapsed": true,
    "deletable": true,
    "editable": true
   },
   "outputs": [],
   "source": [
    "import pandas as pd"
   ]
  },
  {
   "cell_type": "markdown",
   "metadata": {},
   "source": [
    "## Import TSV\n",
    "\n",
    "Pandas makes this easy with the read_csv function. We are using a TSV, so we specify the separator as a tab, or `\\t`.\n",
    "\n",
    "I found it important to put this data in a tab-separated values format, because there are a lot of commas in this kind of data and comma-separated values can get messed up. However, you can modify the import statement, as pandas also has read_excel(), read_json(), and others."
   ]
  },
  {
   "cell_type": "code",
   "execution_count": 53,
   "metadata": {
    "collapsed": false,
    "deletable": true,
    "editable": true
   },
   "outputs": [
    {
     "data": {
      "text/html": [
       "<div>\n",
       "<style scoped>\n",
       "    .dataframe tbody tr th:only-of-type {\n",
       "        vertical-align: middle;\n",
       "    }\n",
       "\n",
       "    .dataframe tbody tr th {\n",
       "        vertical-align: top;\n",
       "    }\n",
       "\n",
       "    .dataframe thead th {\n",
       "        text-align: right;\n",
       "    }\n",
       "</style>\n",
       "<table border=\"1\" class=\"dataframe\">\n",
       "  <thead>\n",
       "    <tr style=\"text-align: right;\">\n",
       "      <th></th>\n",
       "      <th>pub_date</th>\n",
       "      <th>title</th>\n",
       "      <th>venue</th>\n",
       "      <th>excerpt</th>\n",
       "      <th>citation</th>\n",
       "      <th>url_slug</th>\n",
       "      <th>paper_url</th>\n",
       "    </tr>\n",
       "  </thead>\n",
       "  <tbody>\n",
       "    <tr>\n",
       "      <th>0</th>\n",
       "      <td>01/12/2014</td>\n",
       "      <td>Simultaneous enhancement of excitation and pos...</td>\n",
       "      <td>Annals of Neurology</td>\n",
       "      <td>It is not only the inhibition necessary to sto...</td>\n",
       "      <td>&lt;b&gt;Boido D&lt;/b&gt;, Gnatkovsky V, Uva L, Stefano F...</td>\n",
       "      <td>Boido-Seizure-Termination</td>\n",
       "      <td>https://onlinelibrary.wiley.com/doi/abs/10.100...</td>\n",
       "    </tr>\n",
       "    <tr>\n",
       "      <th>1</th>\n",
       "      <td>03/07/2019</td>\n",
       "      <td>Mesoscopic and microscopic imaging of sensory ...</td>\n",
       "      <td>Nature Communications</td>\n",
       "      <td>Two-Photon Microscopy, functional US and BOLD ...</td>\n",
       "      <td>&lt;b&gt;Boido D*&lt;/b&gt;, Rungta R*, Osmanski B*, Roche...</td>\n",
       "      <td>Boido-Mesoscopic</td>\n",
       "      <td>https://www.nature.com/articles/s41467-019-090...</td>\n",
       "    </tr>\n",
       "    <tr>\n",
       "      <th>2</th>\n",
       "      <td>11/06/2020</td>\n",
       "      <td>Transfer functions linking neural calcium to s...</td>\n",
       "      <td>Nature Communications</td>\n",
       "      <td>The Hemodynamic Response Function, so the neur...</td>\n",
       "      <td>Aydin A-K, Haselden WD, Goulam Houssen Y, Pouz...</td>\n",
       "      <td>Aydin-TF</td>\n",
       "      <td>https://www.nature.com/articles/s41467-020-167...</td>\n",
       "    </tr>\n",
       "    <tr>\n",
       "      <th>3</th>\n",
       "      <td>14/06/2021</td>\n",
       "      <td>Iliski, a software for robust calculation of t...</td>\n",
       "      <td>PLOS Computational Biology</td>\n",
       "      <td>Introduction to a SW to compute Transfer Funct...</td>\n",
       "      <td>Aydin AK, Haselden WD, Dang J, Drew PJ, Charpa...</td>\n",
       "      <td>Aydyn-Iliski</td>\n",
       "      <td>https://www.ncbi.nlm.nih.gov/pmc/articles/PMC8...</td>\n",
       "    </tr>\n",
       "    <tr>\n",
       "      <th>4</th>\n",
       "      <td>23/09/2022</td>\n",
       "      <td>Cranial window for longitudinal and multimodal...</td>\n",
       "      <td>Neurophotonics</td>\n",
       "      <td>This paper described a multimodal mouse prepar...</td>\n",
       "      <td>Tournissac M*, &lt;b&gt;Boido D*&lt;/b&gt;, Omnes M, Goula...</td>\n",
       "      <td>Tournissac-Craniotomy</td>\n",
       "      <td>https://pubmed.ncbi.nlm.nih.gov/36159711/</td>\n",
       "    </tr>\n",
       "  </tbody>\n",
       "</table>\n",
       "</div>"
      ],
      "text/plain": [
       "     pub_date                                              title  \\\n",
       "0  01/12/2014  Simultaneous enhancement of excitation and pos...   \n",
       "1  03/07/2019  Mesoscopic and microscopic imaging of sensory ...   \n",
       "2  11/06/2020  Transfer functions linking neural calcium to s...   \n",
       "3  14/06/2021  Iliski, a software for robust calculation of t...   \n",
       "4  23/09/2022  Cranial window for longitudinal and multimodal...   \n",
       "\n",
       "                         venue  \\\n",
       "0          Annals of Neurology   \n",
       "1        Nature Communications   \n",
       "2        Nature Communications   \n",
       "3  PLOS Computational Biology    \n",
       "4               Neurophotonics   \n",
       "\n",
       "                                             excerpt  \\\n",
       "0  It is not only the inhibition necessary to sto...   \n",
       "1  Two-Photon Microscopy, functional US and BOLD ...   \n",
       "2  The Hemodynamic Response Function, so the neur...   \n",
       "3  Introduction to a SW to compute Transfer Funct...   \n",
       "4  This paper described a multimodal mouse prepar...   \n",
       "\n",
       "                                            citation  \\\n",
       "0  <b>Boido D</b>, Gnatkovsky V, Uva L, Stefano F...   \n",
       "1  <b>Boido D*</b>, Rungta R*, Osmanski B*, Roche...   \n",
       "2  Aydin A-K, Haselden WD, Goulam Houssen Y, Pouz...   \n",
       "3  Aydin AK, Haselden WD, Dang J, Drew PJ, Charpa...   \n",
       "4  Tournissac M*, <b>Boido D*</b>, Omnes M, Goula...   \n",
       "\n",
       "                    url_slug  \\\n",
       "0  Boido-Seizure-Termination   \n",
       "1           Boido-Mesoscopic   \n",
       "2                   Aydin-TF   \n",
       "3               Aydyn-Iliski   \n",
       "4      Tournissac-Craniotomy   \n",
       "\n",
       "                                           paper_url  \n",
       "0  https://onlinelibrary.wiley.com/doi/abs/10.100...  \n",
       "1  https://www.nature.com/articles/s41467-019-090...  \n",
       "2  https://www.nature.com/articles/s41467-020-167...  \n",
       "3  https://www.ncbi.nlm.nih.gov/pmc/articles/PMC8...  \n",
       "4          https://pubmed.ncbi.nlm.nih.gov/36159711/  "
      ]
     },
     "execution_count": 53,
     "metadata": {},
     "output_type": "execute_result"
    }
   ],
   "source": [
    "publications = pd.read_csv(\"publications.tsv\", sep=\"\\t\", header=0)\n",
    "publications\n"
   ]
  },
  {
   "cell_type": "markdown",
   "metadata": {},
   "source": [
    "## Escape special characters\n",
    "\n",
    "YAML is very picky about how it takes a valid string, so we are replacing single and double quotes (and ampersands) with their HTML encoded equivilents. This makes them look not so readable in raw format, but they are parsed and rendered nicely."
   ]
  },
  {
   "cell_type": "code",
   "execution_count": 54,
   "metadata": {
    "collapsed": true,
    "deletable": true,
    "editable": true
   },
   "outputs": [],
   "source": [
    "html_escape_table = {\n",
    "    \"&\": \"&amp;\",\n",
    "    '\"': \"&quot;\",\n",
    "    \"'\": \"&apos;\"\n",
    "    }\n",
    "\n",
    "def html_escape(text):\n",
    "    \"\"\"Produce entities within text.\"\"\"\n",
    "    return \"\".join(html_escape_table.get(c,c) for c in text)"
   ]
  },
  {
   "cell_type": "markdown",
   "metadata": {},
   "source": [
    "## Creating the markdown files\n",
    "\n",
    "This is where the heavy lifting is done. This loops through all the rows in the TSV dataframe, then starts to concatentate a big string (```md```) that contains the markdown for each type. It does the YAML metadata first, then does the description for the individual page."
   ]
  },
  {
   "cell_type": "code",
   "execution_count": 55,
   "metadata": {
    "collapsed": false,
    "deletable": true,
    "editable": true
   },
   "outputs": [],
   "source": [
    "import os\n",
    "for row, item in publications.iterrows():\n",
    "    \n",
    "    md_filename = str(item.pub_date) + \"-\" + item.url_slug + \".md\"\n",
    "    html_filename = str(item.pub_date) + \"-\" + item.url_slug\n",
    "    year = item.pub_date[:4]\n",
    "    \n",
    "    ## YAML variables\n",
    "    \n",
    "    md = \"---\\ntitle: \\\"\"   + item.title + '\"\\n'\n",
    "    \n",
    "    md += \"\"\"collection: publications\"\"\"\n",
    "    \n",
    "    md += \"\"\"\\npermalink: /publication/\"\"\" + html_filename\n",
    "    \n",
    "    if len(str(item.excerpt)) > 5:\n",
    "        md += \"\\nexcerpt: '\" + html_escape(item.excerpt) + \"'\"\n",
    "    \n",
    "    md += \"\\ndate: \" + str(item.pub_date) \n",
    "    \n",
    "    md += \"\\nvenue: '\" + html_escape(item.venue) + \"'\"\n",
    "    \n",
    "    if len(str(item.paper_url)) > 5:\n",
    "        md += \"\\npaperurl: '\" + item.paper_url + \"'\"\n",
    "    \n",
    "    md += \"\\ncitation: '\" + html_escape(item.citation) + \"'\"\n",
    "    \n",
    "    md += \"\\n---\"\n",
    "    \n",
    "    ## Markdown description for individual page\n",
    "        \n",
    "    if len(str(item.excerpt)) > 5:\n",
    "        md += \"\\n\" + html_escape(item.excerpt) + \"\\n\"\n",
    "    \n",
    "    if len(str(item.paper_url)) > 5:\n",
    "        md += \"\\n[Download paper here](\" + item.paper_url + \")\\n\" \n",
    "        \n",
    "    md += \"\\nRecommended citation: \" + item.citation\n",
    "    \n",
    "    md_filename = os.path.basename(md_filename)\n",
    "       \n",
    "    with open(\"../_publications/\" + md_filename, 'w') as f:\n",
    "        f.write(md)"
   ]
  },
  {
   "cell_type": "markdown",
   "metadata": {},
   "source": [
    "These files are in the publications directory, one directory below where we're working from."
   ]
  },
  {
   "cell_type": "code",
   "execution_count": 56,
   "metadata": {
    "collapsed": false,
    "deletable": true,
    "editable": true
   },
   "outputs": [
    {
     "name": "stdout",
     "output_type": "stream",
     "text": [
      "2014-Boido-Seizure-Termination.md 2021-Aydyn-Iliski.md\n",
      "2019-Boido-Mesoscopic.md          2022-Tournissac-Craniotomy.md\n",
      "2020-Aydin-TF.md\n"
     ]
    }
   ],
   "source": [
    "!ls ../_publications/"
   ]
  },
  {
   "cell_type": "code",
   "execution_count": 57,
   "metadata": {
    "collapsed": false,
    "deletable": true,
    "editable": true
   },
   "outputs": [
    {
     "name": "stdout",
     "output_type": "stream",
     "text": [
      "cat: ../_publications/2022-paper-title-number-2.md: No such file or directory\n"
     ]
    }
   ],
   "source": [
    "!cat ../_publications/2022-paper-title-number-2.md"
   ]
  },
  {
   "cell_type": "code",
   "execution_count": null,
   "metadata": {
    "collapsed": true,
    "deletable": true,
    "editable": true
   },
   "outputs": [],
   "source": []
  }
 ],
 "metadata": {
  "kernelspec": {
   "display_name": "Python 3",
   "language": "python",
   "name": "python3"
  },
  "language_info": {
   "codemirror_mode": {
    "name": "ipython",
    "version": 3
   },
   "file_extension": ".py",
   "mimetype": "text/x-python",
   "name": "python",
   "nbconvert_exporter": "python",
   "pygments_lexer": "ipython3",
   "version": "3.11.5"
  }
 },
 "nbformat": 4,
 "nbformat_minor": 0
}
