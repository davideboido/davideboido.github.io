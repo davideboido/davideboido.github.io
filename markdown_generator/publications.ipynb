{
 "cells": [
  {
   "cell_type": "markdown",
   "metadata": {
    "deletable": true,
    "editable": true
   },
   "source": [
    "# Publications markdown generator for academicpages\n",
    "\n",
    "Takes a TSV of publications with metadata and converts them for use with [academicpages.github.io](academicpages.github.io). This is an interactive Jupyter notebook ([see more info here](http://jupyter-notebook-beginner-guide.readthedocs.io/en/latest/what_is_jupyter.html)). The core python code is also in `publications.py`. Run either from the `markdown_generator` folder after replacing `publications.tsv` with one containing your data.\n",
    "\n",
    "TODO: Make this work with BibTex and other databases of citations, rather than Stuart's non-standard TSV format and citation style.\n"
   ]
  },
  {
   "cell_type": "markdown",
   "metadata": {},
   "source": [
    "## Data format\n",
    "\n",
    "The TSV needs to have the following columns: pub_date, title, venue, excerpt, citation, site_url, and paper_url, with a header at the top. \n",
    "\n",
    "- `excerpt` and `paper_url` can be blank, but the others must have values. \n",
    "- `pub_date` must be formatted as YYYY-MM-DD.\n",
    "- `url_slug` will be the descriptive part of the .md file and the permalink URL for the page about the paper. The .md file will be `YYYY-MM-DD-[url_slug].md` and the permalink will be `https://[yourdomain]/publications/YYYY-MM-DD-[url_slug]`\n",
    "\n",
    "This is how the raw file looks (it doesn't look pretty, use a spreadsheet or other program to edit and create)."
   ]
  },
  {
   "cell_type": "code",
   "execution_count": 24,
   "metadata": {
    "collapsed": false
   },
   "outputs": [
    {
     "name": "stdout",
     "output_type": "stream",
     "text": [
      "pub_date\ttitle\tvenue\texcerpt\tcitation\turl_slug\tpaper_url\n",
      "23/09/2022\tCranial window for longitudinal and multimodal imaging of the whole mouse cortex\tNeurophotonics\tThis paper described a multimodal mouse preparation suitable for Two-Photon Microscopy, functional US and BOLD fMRI with a ste-by-step protocol\t\"Tournissac M*, Boido D*, Omnes M, Goulam-Houssen Y, Ciobanu L and Charpak S (2022). \"\"Cranial window for longitudinal and multimodal imaging of the whole mouse cortex\"\" <i>Neurophotonics</i>. 9 (3).\"\tpaper-title-number-2\thttp://academicpages.github.io/files/paper2.pdf\n",
      "14/06/2021\tIliski, a software for robust calculation of transfer functions\t\"PLOS Computational Biology \"\tIntroduction to a SW to compute Transfer Functions\t\"Aydin AK, Haselden WD, Dang J, Drew PJ, Charpak S*, Boido D*. (2021). \"\"Iliski, a software for robust calculation of transfer functions\"\" <i>PLOS Comput. Biol.</i>. 17(6).\"\tpaper-title-number-3\thttps://www.ncbi.nlm.nih.gov/pmc/articles/PMC8224889/"
     ]
    }
   ],
   "source": [
    "!cat publications.tsv"
   ]
  },
  {
   "cell_type": "markdown",
   "metadata": {},
   "source": [
    "## Import pandas\n",
    "\n",
    "We are using the very handy pandas library for dataframes."
   ]
  },
  {
   "cell_type": "code",
   "execution_count": 25,
   "metadata": {
    "collapsed": true,
    "deletable": true,
    "editable": true
   },
   "outputs": [],
   "source": [
    "import pandas as pd"
   ]
  },
  {
   "cell_type": "markdown",
   "metadata": {},
   "source": [
    "## Import TSV\n",
    "\n",
    "Pandas makes this easy with the read_csv function. We are using a TSV, so we specify the separator as a tab, or `\\t`.\n",
    "\n",
    "I found it important to put this data in a tab-separated values format, because there are a lot of commas in this kind of data and comma-separated values can get messed up. However, you can modify the import statement, as pandas also has read_excel(), read_json(), and others."
   ]
  },
  {
   "cell_type": "code",
   "execution_count": 26,
   "metadata": {
    "collapsed": false,
    "deletable": true,
    "editable": true
   },
   "outputs": [
    {
     "data": {
      "text/html": [
       "<div>\n",
       "<style scoped>\n",
       "    .dataframe tbody tr th:only-of-type {\n",
       "        vertical-align: middle;\n",
       "    }\n",
       "\n",
       "    .dataframe tbody tr th {\n",
       "        vertical-align: top;\n",
       "    }\n",
       "\n",
       "    .dataframe thead th {\n",
       "        text-align: right;\n",
       "    }\n",
       "</style>\n",
       "<table border=\"1\" class=\"dataframe\">\n",
       "  <thead>\n",
       "    <tr style=\"text-align: right;\">\n",
       "      <th></th>\n",
       "      <th>pub_date</th>\n",
       "      <th>title</th>\n",
       "      <th>venue</th>\n",
       "      <th>excerpt</th>\n",
       "      <th>citation</th>\n",
       "      <th>url_slug</th>\n",
       "      <th>paper_url</th>\n",
       "    </tr>\n",
       "  </thead>\n",
       "  <tbody>\n",
       "    <tr>\n",
       "      <th>0</th>\n",
       "      <td>23/09/2022</td>\n",
       "      <td>Cranial window for longitudinal and multimodal...</td>\n",
       "      <td>Neurophotonics</td>\n",
       "      <td>This paper described a multimodal mouse prepar...</td>\n",
       "      <td>Tournissac M*, Boido D*, Omnes M, Goulam-Houss...</td>\n",
       "      <td>paper-title-number-2</td>\n",
       "      <td>http://academicpages.github.io/files/paper2.pdf</td>\n",
       "    </tr>\n",
       "    <tr>\n",
       "      <th>1</th>\n",
       "      <td>14/06/2021</td>\n",
       "      <td>Iliski, a software for robust calculation of t...</td>\n",
       "      <td>PLOS Computational Biology</td>\n",
       "      <td>Introduction to a SW to compute Transfer Funct...</td>\n",
       "      <td>Aydin AK, Haselden WD, Dang J, Drew PJ, Charpa...</td>\n",
       "      <td>paper-title-number-3</td>\n",
       "      <td>https://www.ncbi.nlm.nih.gov/pmc/articles/PMC8...</td>\n",
       "    </tr>\n",
       "  </tbody>\n",
       "</table>\n",
       "</div>"
      ],
      "text/plain": [
       "     pub_date                                              title  \\\n",
       "0  23/09/2022  Cranial window for longitudinal and multimodal...   \n",
       "1  14/06/2021  Iliski, a software for robust calculation of t...   \n",
       "\n",
       "                         venue  \\\n",
       "0               Neurophotonics   \n",
       "1  PLOS Computational Biology    \n",
       "\n",
       "                                             excerpt  \\\n",
       "0  This paper described a multimodal mouse prepar...   \n",
       "1  Introduction to a SW to compute Transfer Funct...   \n",
       "\n",
       "                                            citation              url_slug  \\\n",
       "0  Tournissac M*, Boido D*, Omnes M, Goulam-Houss...  paper-title-number-2   \n",
       "1  Aydin AK, Haselden WD, Dang J, Drew PJ, Charpa...  paper-title-number-3   \n",
       "\n",
       "                                           paper_url  \n",
       "0    http://academicpages.github.io/files/paper2.pdf  \n",
       "1  https://www.ncbi.nlm.nih.gov/pmc/articles/PMC8...  "
      ]
     },
     "execution_count": 26,
     "metadata": {},
     "output_type": "execute_result"
    }
   ],
   "source": [
    "publications = pd.read_csv(\"publications.tsv\", sep=\"\\t\", header=0)\n",
    "publications\n"
   ]
  },
  {
   "cell_type": "markdown",
   "metadata": {},
   "source": [
    "## Escape special characters\n",
    "\n",
    "YAML is very picky about how it takes a valid string, so we are replacing single and double quotes (and ampersands) with their HTML encoded equivilents. This makes them look not so readable in raw format, but they are parsed and rendered nicely."
   ]
  },
  {
   "cell_type": "code",
   "execution_count": 27,
   "metadata": {
    "collapsed": true,
    "deletable": true,
    "editable": true
   },
   "outputs": [],
   "source": [
    "html_escape_table = {\n",
    "    \"&\": \"&amp;\",\n",
    "    '\"': \"&quot;\",\n",
    "    \"'\": \"&apos;\"\n",
    "    }\n",
    "\n",
    "def html_escape(text):\n",
    "    \"\"\"Produce entities within text.\"\"\"\n",
    "    return \"\".join(html_escape_table.get(c,c) for c in text)"
   ]
  },
  {
   "cell_type": "markdown",
   "metadata": {},
   "source": [
    "## Creating the markdown files\n",
    "\n",
    "This is where the heavy lifting is done. This loops through all the rows in the TSV dataframe, then starts to concatentate a big string (```md```) that contains the markdown for each type. It does the YAML metadata first, then does the description for the individual page."
   ]
  },
  {
   "cell_type": "code",
   "execution_count": 28,
   "metadata": {
    "collapsed": false,
    "deletable": true,
    "editable": true
   },
   "outputs": [],
   "source": [
    "import os\n",
    "for row, item in publications.iterrows():\n",
    "    \n",
    "    md_filename = str(item.pub_date) + \"-\" + item.url_slug + \".md\"\n",
    "    html_filename = str(item.pub_date) + \"-\" + item.url_slug\n",
    "    year = item.pub_date[:4]\n",
    "    \n",
    "    ## YAML variables\n",
    "    \n",
    "    md = \"---\\ntitle: \\\"\"   + item.title + '\"\\n'\n",
    "    \n",
    "    md += \"\"\"collection: publications\"\"\"\n",
    "    \n",
    "    md += \"\"\"\\npermalink: /publication/\"\"\" + html_filename\n",
    "    \n",
    "    if len(str(item.excerpt)) > 5:\n",
    "        md += \"\\nexcerpt: '\" + html_escape(item.excerpt) + \"'\"\n",
    "    \n",
    "    md += \"\\ndate: \" + str(item.pub_date) \n",
    "    \n",
    "    md += \"\\nvenue: '\" + html_escape(item.venue) + \"'\"\n",
    "    \n",
    "    if len(str(item.paper_url)) > 5:\n",
    "        md += \"\\npaperurl: '\" + item.paper_url + \"'\"\n",
    "    \n",
    "    md += \"\\ncitation: '\" + html_escape(item.citation) + \"'\"\n",
    "    \n",
    "    md += \"\\n---\"\n",
    "    \n",
    "    ## Markdown description for individual page\n",
    "        \n",
    "    if len(str(item.excerpt)) > 5:\n",
    "        md += \"\\n\" + html_escape(item.excerpt) + \"\\n\"\n",
    "    \n",
    "    if len(str(item.paper_url)) > 5:\n",
    "        md += \"\\n[Download paper here](\" + item.paper_url + \")\\n\" \n",
    "        \n",
    "    md += \"\\nRecommended citation: \" + item.citation\n",
    "    \n",
    "    md_filename = os.path.basename(md_filename)\n",
    "       \n",
    "    with open(\"../_publications/\" + md_filename, 'w') as f:\n",
    "        f.write(md)"
   ]
  },
  {
   "cell_type": "markdown",
   "metadata": {},
   "source": [
    "These files are in the publications directory, one directory below where we're working from."
   ]
  },
  {
   "cell_type": "code",
   "execution_count": 29,
   "metadata": {
    "collapsed": false,
    "deletable": true,
    "editable": true
   },
   "outputs": [
    {
     "name": "stdout",
     "output_type": "stream",
     "text": [
      "2015-paper-title-number-3.md 2022-paper-title-number-2.md\n",
      "2021-paper-title-number-3.md\n"
     ]
    }
   ],
   "source": [
    "!ls ../_publications/"
   ]
  },
  {
   "cell_type": "code",
   "execution_count": 31,
   "metadata": {
    "collapsed": false,
    "deletable": true,
    "editable": true
   },
   "outputs": [
    {
     "name": "stdout",
     "output_type": "stream",
     "text": [
      "---\n",
      "title: \"Cranial window for longitudinal and multimodal imaging of the whole mouse cortex\"\n",
      "collection: publications\n",
      "permalink: /publication/23/09/2022-paper-title-number-2\n",
      "excerpt: 'This paper described a multimodal mouse preparation suitable for Two-Photon Microscopy, functional US and BOLD fMRI with a ste-by-step protocol'\n",
      "date: 23/09/2022\n",
      "venue: 'Neurophotonics'\n",
      "paperurl: 'http://academicpages.github.io/files/paper2.pdf'\n",
      "citation: 'Tournissac M*, Boido D*, Omnes M, Goulam-Houssen Y, Ciobanu L and Charpak S (2022). &quot;Cranial window for longitudinal and multimodal imaging of the whole mouse cortex&quot; <i>Neurophotonics</i>. 9 (3).'\n",
      "---\n",
      "This paper described a multimodal mouse preparation suitable for Two-Photon Microscopy, functional US and BOLD fMRI with a ste-by-step protocol\n",
      "\n",
      "[Download paper here](http://academicpages.github.io/files/paper2.pdf)\n",
      "\n",
      "Recommended citation: Tournissac M*, Boido D*, Omnes M, Goulam-Houssen Y, Ciobanu L and Charpak S (2022). \"Cranial window for longitudinal and multimodal imaging of the whole mouse cortex\" <i>Neurophotonics</i>. 9 (3)."
     ]
    }
   ],
   "source": [
    "!cat ../_publications/2022-paper-title-number-2.md"
   ]
  },
  {
   "cell_type": "code",
   "execution_count": null,
   "metadata": {
    "collapsed": true,
    "deletable": true,
    "editable": true
   },
   "outputs": [],
   "source": []
  }
 ],
 "metadata": {
  "kernelspec": {
   "display_name": "Python 3",
   "language": "python",
   "name": "python3"
  },
  "language_info": {
   "codemirror_mode": {
    "name": "ipython",
    "version": 3
   },
   "file_extension": ".py",
   "mimetype": "text/x-python",
   "name": "python",
   "nbconvert_exporter": "python",
   "pygments_lexer": "ipython3",
   "version": "3.11.5"
  }
 },
 "nbformat": 4,
 "nbformat_minor": 0
}
